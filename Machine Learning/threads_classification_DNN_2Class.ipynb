{
  "nbformat": 4,
  "nbformat_minor": 0,
  "metadata": {
    "colab": {
      "name": "thread recommendation.ipynb",
      "provenance": [],
      "collapsed_sections": [],
      "include_colab_link": true
    },
    "kernelspec": {
      "name": "python3",
      "display_name": "Python 3"
    },
    "language_info": {
      "name": "python"
    }
  },
  "cells": [
    {
      "cell_type": "markdown",
      "metadata": {
        "id": "view-in-github",
        "colab_type": "text"
      },
      "source": [
        "<a href=\"https://colab.research.google.com/github/resfy/Allure.id/blob/main/Machine%20Learning/threads_classification_DNN_2Class.ipynb\" target=\"_parent\"><img src=\"https://colab.research.google.com/assets/colab-badge.svg\" alt=\"Open In Colab\"/></a>"
      ]
    },
    {
      "cell_type": "code",
      "metadata": {
        "id": "pOQGKfMW3kfk"
      },
      "source": [
        "import os\n",
        "import re\n",
        "import nltk\n",
        "import string\n",
        "import pickle\n",
        "import numpy as np\n",
        "import pandas as pd\n",
        "import tensorflow as tf\n",
        "from sklearn.feature_extraction.text import TfidfVectorizer"
      ],
      "execution_count": null,
      "outputs": []
    },
    {
      "cell_type": "code",
      "metadata": {
        "colab": {
          "base_uri": "https://localhost:8080/"
        },
        "id": "8SSLHC2135ep",
        "outputId": "44d25def-8f21-436d-c58a-b53ab0fa8079"
      },
      "source": [
        "stopwords = nltk.corpus.stopwords\n",
        "nltk.download('stopwords')\n",
        "nltk.download('punkt')"
      ],
      "execution_count": null,
      "outputs": [
        {
          "output_type": "stream",
          "text": [
            "[nltk_data] Downloading package stopwords to /root/nltk_data...\n",
            "[nltk_data]   Unzipping corpora/stopwords.zip.\n",
            "[nltk_data] Downloading package punkt to /root/nltk_data...\n",
            "[nltk_data]   Unzipping tokenizers/punkt.zip.\n"
          ],
          "name": "stdout"
        },
        {
          "output_type": "execute_result",
          "data": {
            "text/plain": [
              "True"
            ]
          },
          "metadata": {
            "tags": []
          },
          "execution_count": 2
        }
      ]
    },
    {
      "cell_type": "code",
      "metadata": {
        "id": "f4qm9ctd4a_0"
      },
      "source": [
        "def text_process(text):\n",
        "    pattern = r'</*\\w+[\\w:/.\"= ]*>'\n",
        "    text = re.sub(pattern, '', text)\n",
        "    text = text.translate(str.maketrans(\" \", \" \", string.punctuation))\n",
        "    text = [word.lower() for word in text.split() if word.lower() not in stopwords.words('english')]\n",
        "    return \" \".join(text)\n",
        "\n",
        "def make_prediction(model, input_data):\n",
        "    predict_dict = {0: 'High Quality', 1: 'Low Quality'}\n",
        "    prediction = model.predict(input_data)\n",
        "    prediction = predict_dict[round(prediction[0, 0])]\n",
        "    return prediction\n"
      ],
      "execution_count": null,
      "outputs": []
    },
    {
      "cell_type": "code",
      "metadata": {
        "id": "v1uWdAdI9Yiu"
      },
      "source": [
        "train_data = pd.read_csv('train.csv')\n",
        "valid_data = pd.read_csv('valid.csv')"
      ],
      "execution_count": null,
      "outputs": []
    },
    {
      "cell_type": "code",
      "metadata": {
        "colab": {
          "base_uri": "https://localhost:8080/",
          "height": 640
        },
        "id": "IxATyN6V9wSt",
        "outputId": "903d70c3-93b5-4d6d-fdc5-c35020b409be"
      },
      "source": [
        "train_data.head(n = 10)"
      ],
      "execution_count": null,
      "outputs": [
        {
          "output_type": "execute_result",
          "data": {
            "text/html": [
              "<div>\n",
              "<style scoped>\n",
              "    .dataframe tbody tr th:only-of-type {\n",
              "        vertical-align: middle;\n",
              "    }\n",
              "\n",
              "    .dataframe tbody tr th {\n",
              "        vertical-align: top;\n",
              "    }\n",
              "\n",
              "    .dataframe thead th {\n",
              "        text-align: right;\n",
              "    }\n",
              "</style>\n",
              "<table border=\"1\" class=\"dataframe\">\n",
              "  <thead>\n",
              "    <tr style=\"text-align: right;\">\n",
              "      <th></th>\n",
              "      <th>Id</th>\n",
              "      <th>Title</th>\n",
              "      <th>Body</th>\n",
              "      <th>Tags</th>\n",
              "      <th>CreationDate</th>\n",
              "      <th>Y</th>\n",
              "    </tr>\n",
              "  </thead>\n",
              "  <tbody>\n",
              "    <tr>\n",
              "      <th>0</th>\n",
              "      <td>34552656</td>\n",
              "      <td>Java: Repeat Task Every Random Seconds</td>\n",
              "      <td>&lt;p&gt;I'm already familiar with repeating tasks e...</td>\n",
              "      <td>&lt;java&gt;&lt;repeat&gt;</td>\n",
              "      <td>2016-01-01 00:21:59</td>\n",
              "      <td>LQ_CLOSE</td>\n",
              "    </tr>\n",
              "    <tr>\n",
              "      <th>1</th>\n",
              "      <td>34553034</td>\n",
              "      <td>Why are Java Optionals immutable?</td>\n",
              "      <td>&lt;p&gt;I'd like to understand why Java 8 Optionals...</td>\n",
              "      <td>&lt;java&gt;&lt;optional&gt;</td>\n",
              "      <td>2016-01-01 02:03:20</td>\n",
              "      <td>HQ</td>\n",
              "    </tr>\n",
              "    <tr>\n",
              "      <th>2</th>\n",
              "      <td>34553174</td>\n",
              "      <td>Text Overlay Image with Darkened Opacity React...</td>\n",
              "      <td>&lt;p&gt;I am attempting to overlay a title over an ...</td>\n",
              "      <td>&lt;javascript&gt;&lt;image&gt;&lt;overlay&gt;&lt;react-native&gt;&lt;opa...</td>\n",
              "      <td>2016-01-01 02:48:24</td>\n",
              "      <td>HQ</td>\n",
              "    </tr>\n",
              "    <tr>\n",
              "      <th>3</th>\n",
              "      <td>34553318</td>\n",
              "      <td>Why ternary operator in swift is so picky?</td>\n",
              "      <td>&lt;p&gt;The question is very simple, but I just cou...</td>\n",
              "      <td>&lt;swift&gt;&lt;operators&gt;&lt;whitespace&gt;&lt;ternary-operato...</td>\n",
              "      <td>2016-01-01 03:30:17</td>\n",
              "      <td>HQ</td>\n",
              "    </tr>\n",
              "    <tr>\n",
              "      <th>4</th>\n",
              "      <td>34553755</td>\n",
              "      <td>hide/show fab with scale animation</td>\n",
              "      <td>&lt;p&gt;I'm using custom floatingactionmenu. I need...</td>\n",
              "      <td>&lt;android&gt;&lt;material-design&gt;&lt;floating-action-but...</td>\n",
              "      <td>2016-01-01 05:21:48</td>\n",
              "      <td>HQ</td>\n",
              "    </tr>\n",
              "    <tr>\n",
              "      <th>5</th>\n",
              "      <td>34554026</td>\n",
              "      <td>Accessing pointer member of the structure usin...</td>\n",
              "      <td>&lt;p&gt;I have defined integer pointer inside the s...</td>\n",
              "      <td>&lt;c&gt;&lt;pointers&gt;&lt;data-structures&gt;</td>\n",
              "      <td>2016-01-01 06:21:17</td>\n",
              "      <td>LQ_CLOSE</td>\n",
              "    </tr>\n",
              "    <tr>\n",
              "      <th>6</th>\n",
              "      <td>34554206</td>\n",
              "      <td>How To Disable 2nd Saturday 4th Saturday ,Sund...</td>\n",
              "      <td>i want to Disable 2nd Saturday 4th saturday,...</td>\n",
              "      <td>&lt;javascript&gt;&lt;jquery&gt;&lt;jquery-ui&gt;</td>\n",
              "      <td>2016-01-01 06:55:18</td>\n",
              "      <td>LQ_EDIT</td>\n",
              "    </tr>\n",
              "    <tr>\n",
              "      <th>7</th>\n",
              "      <td>34554671</td>\n",
              "      <td>Resizing containers in bootstrap</td>\n",
              "      <td>I am new to bootstrap and i would like to find...</td>\n",
              "      <td>&lt;jquery&gt;&lt;html&gt;&lt;css&gt;&lt;twitter-bootstrap&gt;</td>\n",
              "      <td>2016-01-01 08:32:05</td>\n",
              "      <td>LQ_EDIT</td>\n",
              "    </tr>\n",
              "    <tr>\n",
              "      <th>8</th>\n",
              "      <td>34554871</td>\n",
              "      <td>Changing Theme in Windows 10 UWP App Programma...</td>\n",
              "      <td>&lt;p&gt;I was able to change theme using &lt;code&gt;this...</td>\n",
              "      <td>&lt;c#&gt;&lt;windows-10&gt;&lt;windows-10-mobile&gt;&lt;windows-10...</td>\n",
              "      <td>2016-01-01 09:05:45</td>\n",
              "      <td>HQ</td>\n",
              "    </tr>\n",
              "    <tr>\n",
              "      <th>9</th>\n",
              "      <td>34554982</td>\n",
              "      <td>TextBox Value Disappears VB6</td>\n",
              "      <td>I my case I am having two form Form 1 and Form...</td>\n",
              "      <td>&lt;vb6&gt;</td>\n",
              "      <td>2016-01-01 09:27:44</td>\n",
              "      <td>LQ_EDIT</td>\n",
              "    </tr>\n",
              "  </tbody>\n",
              "</table>\n",
              "</div>"
            ],
            "text/plain": [
              "         Id  ...         Y\n",
              "0  34552656  ...  LQ_CLOSE\n",
              "1  34553034  ...        HQ\n",
              "2  34553174  ...        HQ\n",
              "3  34553318  ...        HQ\n",
              "4  34553755  ...        HQ\n",
              "5  34554026  ...  LQ_CLOSE\n",
              "6  34554206  ...   LQ_EDIT\n",
              "7  34554671  ...   LQ_EDIT\n",
              "8  34554871  ...        HQ\n",
              "9  34554982  ...   LQ_EDIT\n",
              "\n",
              "[10 rows x 6 columns]"
            ]
          },
          "metadata": {
            "tags": []
          },
          "execution_count": 5
        }
      ]
    },
    {
      "cell_type": "code",
      "metadata": {
        "colab": {
          "base_uri": "https://localhost:8080/",
          "height": 588
        },
        "id": "uHkii0HP9yRv",
        "outputId": "2ec77bc9-e13b-41a4-9e57-c064b5f1a077"
      },
      "source": [
        "valid_data.head(n = 10)"
      ],
      "execution_count": null,
      "outputs": [
        {
          "output_type": "execute_result",
          "data": {
            "text/html": [
              "<div>\n",
              "<style scoped>\n",
              "    .dataframe tbody tr th:only-of-type {\n",
              "        vertical-align: middle;\n",
              "    }\n",
              "\n",
              "    .dataframe tbody tr th {\n",
              "        vertical-align: top;\n",
              "    }\n",
              "\n",
              "    .dataframe thead th {\n",
              "        text-align: right;\n",
              "    }\n",
              "</style>\n",
              "<table border=\"1\" class=\"dataframe\">\n",
              "  <thead>\n",
              "    <tr style=\"text-align: right;\">\n",
              "      <th></th>\n",
              "      <th>Id</th>\n",
              "      <th>Title</th>\n",
              "      <th>Body</th>\n",
              "      <th>Tags</th>\n",
              "      <th>CreationDate</th>\n",
              "      <th>Y</th>\n",
              "    </tr>\n",
              "  </thead>\n",
              "  <tbody>\n",
              "    <tr>\n",
              "      <th>0</th>\n",
              "      <td>34552974</td>\n",
              "      <td>How to get all the child records from differen...</td>\n",
              "      <td>I am having 4 different tables like \\r\\nselect...</td>\n",
              "      <td>&lt;sql&gt;&lt;sql-server&gt;</td>\n",
              "      <td>2016-01-01 01:44:52</td>\n",
              "      <td>LQ_EDIT</td>\n",
              "    </tr>\n",
              "    <tr>\n",
              "      <th>1</th>\n",
              "      <td>34554721</td>\n",
              "      <td>Retrieve all except some data of the another t...</td>\n",
              "      <td>I have two table m_master and tbl_appointment\\...</td>\n",
              "      <td>&lt;php&gt;&lt;mysql&gt;&lt;sql&gt;&lt;codeigniter&gt;&lt;mysqli&gt;</td>\n",
              "      <td>2016-01-01 08:43:50</td>\n",
              "      <td>LQ_EDIT</td>\n",
              "    </tr>\n",
              "    <tr>\n",
              "      <th>2</th>\n",
              "      <td>34555135</td>\n",
              "      <td>Pandas: read_html</td>\n",
              "      <td>&lt;p&gt;I'm trying to extract US states from wiki U...</td>\n",
              "      <td>&lt;python&gt;&lt;pandas&gt;</td>\n",
              "      <td>2016-01-01 09:55:22</td>\n",
              "      <td>HQ</td>\n",
              "    </tr>\n",
              "    <tr>\n",
              "      <th>3</th>\n",
              "      <td>34555448</td>\n",
              "      <td>Reader Always gimme NULL</td>\n",
              "      <td>I'm so new to C#, I wanna make an application ...</td>\n",
              "      <td>&lt;sql-server&gt;&lt;c#-4.0&gt;</td>\n",
              "      <td>2016-01-01 10:43:45</td>\n",
              "      <td>LQ_EDIT</td>\n",
              "    </tr>\n",
              "    <tr>\n",
              "      <th>4</th>\n",
              "      <td>34555752</td>\n",
              "      <td>php rearrange array elements based on condition</td>\n",
              "      <td>basically i have this array:\\r\\n\\r\\n    array(...</td>\n",
              "      <td>&lt;php&gt;</td>\n",
              "      <td>2016-01-01 11:34:09</td>\n",
              "      <td>LQ_EDIT</td>\n",
              "    </tr>\n",
              "    <tr>\n",
              "      <th>5</th>\n",
              "      <td>34557209</td>\n",
              "      <td>How do I make a constructor for a derived class?</td>\n",
              "      <td>&lt;p&gt;I am trying to make a constructor for a der...</td>\n",
              "      <td>&lt;c++&gt;&lt;inheritance&gt;&lt;constructor&gt;&lt;derived-class&gt;</td>\n",
              "      <td>2016-01-01 14:58:52</td>\n",
              "      <td>LQ_CLOSE</td>\n",
              "    </tr>\n",
              "    <tr>\n",
              "      <th>6</th>\n",
              "      <td>34557363</td>\n",
              "      <td>how can i create a dynamic tow dimensional arr...</td>\n",
              "      <td>I am using c++ in my lesson and for solving a...</td>\n",
              "      <td>&lt;c++&gt;</td>\n",
              "      <td>2016-01-01 15:21:17</td>\n",
              "      <td>LQ_EDIT</td>\n",
              "    </tr>\n",
              "    <tr>\n",
              "      <th>7</th>\n",
              "      <td>34557587</td>\n",
              "      <td>Re-exporting ES6 modules in TS 1.7?</td>\n",
              "      <td>&lt;p&gt;I'm getting a bit lost in TS re-exports. Sa...</td>\n",
              "      <td>&lt;typescript&gt;&lt;ecmascript-6&gt;&lt;es6-module-loader&gt;&lt;...</td>\n",
              "      <td>2016-01-01 15:50:30</td>\n",
              "      <td>HQ</td>\n",
              "    </tr>\n",
              "    <tr>\n",
              "      <th>8</th>\n",
              "      <td>34558264</td>\n",
              "      <td>Fetch API with Cookie</td>\n",
              "      <td>&lt;p&gt;I am trying out the new Fetch API but is ha...</td>\n",
              "      <td>&lt;cookies&gt;&lt;fetch-api&gt;</td>\n",
              "      <td>2016-01-01 17:21:19</td>\n",
              "      <td>HQ</td>\n",
              "    </tr>\n",
              "    <tr>\n",
              "      <th>9</th>\n",
              "      <td>34559136</td>\n",
              "      <td>Print list content in a given order</td>\n",
              "      <td>&lt;pre&gt;&lt;code&gt;lt = ['7,777.7', '777.7', '77,777.7...</td>\n",
              "      <td>&lt;python&gt;&lt;list&gt;&lt;python-2.7&gt;&lt;for-loop&gt;</td>\n",
              "      <td>2016-01-01 19:08:12</td>\n",
              "      <td>LQ_CLOSE</td>\n",
              "    </tr>\n",
              "  </tbody>\n",
              "</table>\n",
              "</div>"
            ],
            "text/plain": [
              "         Id  ...         Y\n",
              "0  34552974  ...   LQ_EDIT\n",
              "1  34554721  ...   LQ_EDIT\n",
              "2  34555135  ...        HQ\n",
              "3  34555448  ...   LQ_EDIT\n",
              "4  34555752  ...   LQ_EDIT\n",
              "5  34557209  ...  LQ_CLOSE\n",
              "6  34557363  ...   LQ_EDIT\n",
              "7  34557587  ...        HQ\n",
              "8  34558264  ...        HQ\n",
              "9  34559136  ...  LQ_CLOSE\n",
              "\n",
              "[10 rows x 6 columns]"
            ]
          },
          "metadata": {
            "tags": []
          },
          "execution_count": 6
        }
      ]
    },
    {
      "cell_type": "code",
      "metadata": {
        "id": "sxmuLm-x_NMk"
      },
      "source": [
        "def change_labels(label):\n",
        "    if label == 'HQ':\n",
        "        return 0\n",
        "    else:\n",
        "        return 1"
      ],
      "execution_count": null,
      "outputs": []
    },
    {
      "cell_type": "code",
      "metadata": {
        "colab": {
          "base_uri": "https://localhost:8080/",
          "height": 536
        },
        "id": "LQbLGYt592nY",
        "outputId": "f0385a46-daaa-4d5a-a4a4-21cbd88e513b"
      },
      "source": [
        "train_data['Text'] = train_data['Title'] + ' ' + train_data['Body']\n",
        "valid_data['Text'] = valid_data['Title'] + ' ' + valid_data['Body']\n",
        "train_data['Labels'] = train_data['Y'].apply(change_labels)\n",
        "valid_data['Labels'] = valid_data['Y'].apply(change_labels)\n",
        "train_data.drop(columns = ['Id', 'Tags', 'CreationDate'], inplace = True)\n",
        "valid_data.drop(columns = ['Id', 'Tags', 'CreationDate'], inplace = True)\n",
        "train_data.head(n = 10)"
      ],
      "execution_count": null,
      "outputs": [
        {
          "output_type": "execute_result",
          "data": {
            "text/html": [
              "<div>\n",
              "<style scoped>\n",
              "    .dataframe tbody tr th:only-of-type {\n",
              "        vertical-align: middle;\n",
              "    }\n",
              "\n",
              "    .dataframe tbody tr th {\n",
              "        vertical-align: top;\n",
              "    }\n",
              "\n",
              "    .dataframe thead th {\n",
              "        text-align: right;\n",
              "    }\n",
              "</style>\n",
              "<table border=\"1\" class=\"dataframe\">\n",
              "  <thead>\n",
              "    <tr style=\"text-align: right;\">\n",
              "      <th></th>\n",
              "      <th>Title</th>\n",
              "      <th>Body</th>\n",
              "      <th>Y</th>\n",
              "      <th>Text</th>\n",
              "      <th>Labels</th>\n",
              "    </tr>\n",
              "  </thead>\n",
              "  <tbody>\n",
              "    <tr>\n",
              "      <th>0</th>\n",
              "      <td>Java: Repeat Task Every Random Seconds</td>\n",
              "      <td>&lt;p&gt;I'm already familiar with repeating tasks e...</td>\n",
              "      <td>LQ_CLOSE</td>\n",
              "      <td>Java: Repeat Task Every Random Seconds &lt;p&gt;I'm ...</td>\n",
              "      <td>1</td>\n",
              "    </tr>\n",
              "    <tr>\n",
              "      <th>1</th>\n",
              "      <td>Why are Java Optionals immutable?</td>\n",
              "      <td>&lt;p&gt;I'd like to understand why Java 8 Optionals...</td>\n",
              "      <td>HQ</td>\n",
              "      <td>Why are Java Optionals immutable? &lt;p&gt;I'd like ...</td>\n",
              "      <td>0</td>\n",
              "    </tr>\n",
              "    <tr>\n",
              "      <th>2</th>\n",
              "      <td>Text Overlay Image with Darkened Opacity React...</td>\n",
              "      <td>&lt;p&gt;I am attempting to overlay a title over an ...</td>\n",
              "      <td>HQ</td>\n",
              "      <td>Text Overlay Image with Darkened Opacity React...</td>\n",
              "      <td>0</td>\n",
              "    </tr>\n",
              "    <tr>\n",
              "      <th>3</th>\n",
              "      <td>Why ternary operator in swift is so picky?</td>\n",
              "      <td>&lt;p&gt;The question is very simple, but I just cou...</td>\n",
              "      <td>HQ</td>\n",
              "      <td>Why ternary operator in swift is so picky? &lt;p&gt;...</td>\n",
              "      <td>0</td>\n",
              "    </tr>\n",
              "    <tr>\n",
              "      <th>4</th>\n",
              "      <td>hide/show fab with scale animation</td>\n",
              "      <td>&lt;p&gt;I'm using custom floatingactionmenu. I need...</td>\n",
              "      <td>HQ</td>\n",
              "      <td>hide/show fab with scale animation &lt;p&gt;I'm usin...</td>\n",
              "      <td>0</td>\n",
              "    </tr>\n",
              "    <tr>\n",
              "      <th>5</th>\n",
              "      <td>Accessing pointer member of the structure usin...</td>\n",
              "      <td>&lt;p&gt;I have defined integer pointer inside the s...</td>\n",
              "      <td>LQ_CLOSE</td>\n",
              "      <td>Accessing pointer member of the structure usin...</td>\n",
              "      <td>1</td>\n",
              "    </tr>\n",
              "    <tr>\n",
              "      <th>6</th>\n",
              "      <td>How To Disable 2nd Saturday 4th Saturday ,Sund...</td>\n",
              "      <td>i want to Disable 2nd Saturday 4th saturday,...</td>\n",
              "      <td>LQ_EDIT</td>\n",
              "      <td>How To Disable 2nd Saturday 4th Saturday ,Sund...</td>\n",
              "      <td>1</td>\n",
              "    </tr>\n",
              "    <tr>\n",
              "      <th>7</th>\n",
              "      <td>Resizing containers in bootstrap</td>\n",
              "      <td>I am new to bootstrap and i would like to find...</td>\n",
              "      <td>LQ_EDIT</td>\n",
              "      <td>Resizing containers in bootstrap I am new to b...</td>\n",
              "      <td>1</td>\n",
              "    </tr>\n",
              "    <tr>\n",
              "      <th>8</th>\n",
              "      <td>Changing Theme in Windows 10 UWP App Programma...</td>\n",
              "      <td>&lt;p&gt;I was able to change theme using &lt;code&gt;this...</td>\n",
              "      <td>HQ</td>\n",
              "      <td>Changing Theme in Windows 10 UWP App Programma...</td>\n",
              "      <td>0</td>\n",
              "    </tr>\n",
              "    <tr>\n",
              "      <th>9</th>\n",
              "      <td>TextBox Value Disappears VB6</td>\n",
              "      <td>I my case I am having two form Form 1 and Form...</td>\n",
              "      <td>LQ_EDIT</td>\n",
              "      <td>TextBox Value Disappears VB6 I my case I am ha...</td>\n",
              "      <td>1</td>\n",
              "    </tr>\n",
              "  </tbody>\n",
              "</table>\n",
              "</div>"
            ],
            "text/plain": [
              "                                               Title  ... Labels\n",
              "0             Java: Repeat Task Every Random Seconds  ...      1\n",
              "1                  Why are Java Optionals immutable?  ...      0\n",
              "2  Text Overlay Image with Darkened Opacity React...  ...      0\n",
              "3         Why ternary operator in swift is so picky?  ...      0\n",
              "4                 hide/show fab with scale animation  ...      0\n",
              "5  Accessing pointer member of the structure usin...  ...      1\n",
              "6  How To Disable 2nd Saturday 4th Saturday ,Sund...  ...      1\n",
              "7                   Resizing containers in bootstrap  ...      1\n",
              "8  Changing Theme in Windows 10 UWP App Programma...  ...      0\n",
              "9                       TextBox Value Disappears VB6  ...      1\n",
              "\n",
              "[10 rows x 5 columns]"
            ]
          },
          "metadata": {
            "tags": []
          },
          "execution_count": 8
        }
      ]
    },
    {
      "cell_type": "code",
      "metadata": {
        "colab": {
          "base_uri": "https://localhost:8080/"
        },
        "id": "5WEwH6yRACnN",
        "outputId": "0213d756-1059-4a97-c070-a5c3914eee9e"
      },
      "source": [
        "clean_text = train_data['Text'].apply(text_process)\n",
        "clean_text"
      ],
      "execution_count": null,
      "outputs": [
        {
          "output_type": "execute_result",
          "data": {
            "text/plain": [
              "0        java repeat task every random seconds im alrea...\n",
              "1        java optionals immutable id like understand ja...\n",
              "2        text overlay image darkened opacity react nati...\n",
              "3        ternary operator swift picky question simple c...\n",
              "4        hideshow fab scale animation im using custom f...\n",
              "                               ...                        \n",
              "44995    convert list string c aspnet sql server new as...\n",
              "44996    python execute code top bottom script working ...\n",
              "44997    change payment date azure looks like costs 8 d...\n",
              "44998    implement fill blank swift questions want impl...\n",
              "44999    make c application outside visual studio im ne...\n",
              "Name: Text, Length: 45000, dtype: object"
            ]
          },
          "metadata": {
            "tags": []
          },
          "execution_count": 9
        }
      ]
    },
    {
      "cell_type": "code",
      "metadata": {
        "colab": {
          "base_uri": "https://localhost:8080/"
        },
        "id": "kQalAaPYAWta",
        "outputId": "06524550-29b6-45b1-93fa-eb05a5835dcd"
      },
      "source": [
        "valid_clean_text = valid_data['Text'].apply(text_process)\n",
        "valid_clean_text"
      ],
      "execution_count": null,
      "outputs": [
        {
          "output_type": "execute_result",
          "data": {
            "text/plain": [
              "0        get child records different tables based given...\n",
              "1        retrieve except data another table two table m...\n",
              "2        pandas readhtml im trying extract us states wi...\n",
              "3        reader always gimme null im new c wanna make a...\n",
              "4        php rearrange array elements based condition b...\n",
              "                               ...                        \n",
              "14995    align two flex boxes follow menu id like divri...\n",
              "14996    c correct way multiply integer double try mult...\n",
              "14997    django showing error try open new page hyperli...\n",
              "14998    php getting content php page controller inside...\n",
              "14999    cant overloaded functions vary return type rec...\n",
              "Name: Text, Length: 15000, dtype: object"
            ]
          },
          "metadata": {
            "tags": []
          },
          "execution_count": 10
        }
      ]
    },
    {
      "cell_type": "code",
      "metadata": {
        "id": "zHO0WV7RAcH5"
      },
      "source": [
        "vectorizer = TfidfVectorizer('english')\n",
        "features = vectorizer.fit_transform(clean_text)"
      ],
      "execution_count": null,
      "outputs": []
    },
    {
      "cell_type": "code",
      "metadata": {
        "id": "n-7n51y6CiEQ"
      },
      "source": [
        "labels = train_data['Labels'].values\n",
        "validation_features = vectorizer.transform(valid_clean_text)\n",
        "validation_labels = valid_data['Labels'].values"
      ],
      "execution_count": null,
      "outputs": []
    },
    {
      "cell_type": "code",
      "metadata": {
        "id": "VvdcbKtJDMsS"
      },
      "source": [
        "features.sort_indices()\n",
        "validation_features.sort_indices()"
      ],
      "execution_count": null,
      "outputs": []
    },
    {
      "cell_type": "code",
      "metadata": {
        "colab": {
          "base_uri": "https://localhost:8080/"
        },
        "id": "2tQbnM9fPHg7",
        "outputId": "372a7b77-18df-4575-f2c3-7fe50dd55187"
      },
      "source": [
        "features.shape"
      ],
      "execution_count": null,
      "outputs": [
        {
          "output_type": "execute_result",
          "data": {
            "text/plain": [
              "(45000, 387505)"
            ]
          },
          "metadata": {
            "tags": []
          },
          "execution_count": 14
        }
      ]
    },
    {
      "cell_type": "code",
      "metadata": {
        "colab": {
          "base_uri": "https://localhost:8080/"
        },
        "id": "fM1Gw8bWPGoS",
        "outputId": "6a2a3626-bcab-474e-b9ec-8f81fb7e4a2e"
      },
      "source": [
        "model = tf.keras.Sequential([\n",
        "    tf.keras.layers.Dense(units = 128, input_shape = (features.shape[1],), activation = 'relu'),\n",
        "    tf.keras.layers.Dropout(0.3),\n",
        "    tf.keras.layers.Dense(units = 1, activation = 'sigmoid')\n",
        "])\n",
        "model.compile(loss = 'binary_crossentropy', optimizer = tf.keras.optimizers.Adam(learning_rate = 1e-4),\n",
        "              metrics = ['accuracy'])\n",
        "model_checkpoint = tf.keras.callbacks.ModelCheckpoint(filepath = os.getcwd(), monitor = 'val_accuracy',\n",
        "                                                      verbose = 1, save_best_only = True,\n",
        "                                                      save_weights_only = True)\n",
        "history = model.fit(features, labels, epochs = 5, batch_size = 16, callbacks = [model_checkpoint],\n",
        "                    validation_data = (validation_features, validation_labels))"
      ],
      "execution_count": null,
      "outputs": [
        {
          "output_type": "stream",
          "text": [
            "Epoch 1/5\n"
          ],
          "name": "stdout"
        },
        {
          "output_type": "stream",
          "text": [
            "/usr/local/lib/python3.7/dist-packages/tensorflow/python/framework/indexed_slices.py:449: UserWarning: Converting sparse IndexedSlices(IndexedSlices(indices=Tensor(\"gradient_tape/sequential/dense/embedding_lookup_sparse/Reshape_1:0\", shape=(None,), dtype=int32), values=Tensor(\"gradient_tape/sequential/dense/embedding_lookup_sparse/Reshape:0\", shape=(None, 128), dtype=float32), dense_shape=Tensor(\"gradient_tape/sequential/dense/embedding_lookup_sparse/Cast:0\", shape=(2,), dtype=int32))) to a dense Tensor of unknown shape. This may consume a large amount of memory.\n",
            "  \"shape. This may consume a large amount of memory.\" % value)\n"
          ],
          "name": "stderr"
        },
        {
          "output_type": "stream",
          "text": [
            "2813/2813 [==============================] - 1350s 479ms/step - loss: 0.4937 - accuracy: 0.7722 - val_loss: 0.3575 - val_accuracy: 0.8550\n",
            "\n",
            "Epoch 00001: val_accuracy improved from -inf to 0.85500, saving model to /content\n",
            "Epoch 2/5\n",
            "2813/2813 [==============================] - 1392s 495ms/step - loss: 0.3006 - accuracy: 0.8842 - val_loss: 0.3086 - val_accuracy: 0.8707\n",
            "\n",
            "Epoch 00002: val_accuracy improved from 0.85500 to 0.87067, saving model to /content\n",
            "Epoch 3/5\n",
            "2813/2813 [==============================] - 1407s 500ms/step - loss: 0.2296 - accuracy: 0.9139 - val_loss: 0.2973 - val_accuracy: 0.8759\n",
            "\n",
            "Epoch 00003: val_accuracy improved from 0.87067 to 0.87593, saving model to /content\n",
            "Epoch 4/5\n",
            "2813/2813 [==============================] - 1409s 501ms/step - loss: 0.1834 - accuracy: 0.9338 - val_loss: 0.2967 - val_accuracy: 0.8771\n",
            "\n",
            "Epoch 00004: val_accuracy improved from 0.87593 to 0.87713, saving model to /content\n",
            "Epoch 5/5\n",
            "2813/2813 [==============================] - 1407s 500ms/step - loss: 0.1483 - accuracy: 0.9477 - val_loss: 0.3012 - val_accuracy: 0.8765\n",
            "\n",
            "Epoch 00005: val_accuracy did not improve from 0.87713\n"
          ],
          "name": "stdout"
        }
      ]
    },
    {
      "cell_type": "code",
      "metadata": {
        "id": "Ya-X83dDO_mp"
      },
      "source": [
        "with open('tfidf_vectorizer.pkl', 'wb') as output_file:\n",
        "    pickle.dump(vectorizer, output_file)"
      ],
      "execution_count": null,
      "outputs": []
    },
    {
      "cell_type": "code",
      "metadata": {
        "colab": {
          "base_uri": "https://localhost:8080/",
          "height": 295
        },
        "id": "DYjnMqJX6bX1",
        "outputId": "d68a3e4c-32c7-4639-e7c3-407d97803bcb"
      },
      "source": [
        "import matplotlib.pyplot as plt\n",
        "\n",
        "plt.plot(history.history['accuracy'])\n",
        "plt.plot(history.history['val_accuracy'])\n",
        "plt.title('model accuracy')\n",
        "plt.ylabel('accuracy')\n",
        "plt.xlabel('epoch')\n",
        "plt.legend(['train', 'validation'], loc='upper left')\n",
        "plt.show()"
      ],
      "execution_count": null,
      "outputs": [
        {
          "output_type": "display_data",
          "data": {
            "image/png": "[encoded data removed]",
            "text/plain": [
              "<Figure size 432x288 with 1 Axes>"
            ]
          },
          "metadata": {
            "tags": [],
            "needs_background": "light"
          }
        }
      ]
    },
    {
      "cell_type": "code",
      "metadata": {
        "id": "cYChkg18V5zo"
      },
      "source": [
        "model.save('rekomendasi_thread.h5')"
      ],
      "execution_count": null,
      "outputs": []
    }
  ]
}